{
 "cells": [
  {
   "cell_type": "markdown",
   "metadata": {},
   "source": [
    "Numpy 패키지에는 다양한 확률 분포 함수를 제공해주고 있는데 주요 함수는 다음 표와 같다. 이 homework에서는 이런 함수들을 사용하는 방법을 학습하도록 한다.\n",
    "\n",
    "| rv         | pmf             | CDF             | sample generation      |\n",
    "|------------|-----------------|-----------------|------------------------|\n",
    "|uniform     |   randint.pmf   |   randint.cdf   |       randint.rv       |\n",
    "|binomial    |   bionm.pmf     |   bionm.cdf     |       bionm.rv         |\n",
    "|geometric   |   geom.pmf      |   geom.cdf      |       geom.rv          |\n",
    "|Poisson     |   poisson.pmf   |   poisson.cdf   |       poisson.rv       |\n",
    "|Pascal      |   nbionm.pmf    |   nbionm.cdf    |       nbionm.rv        |\n",
    "|Bernoulli   |   bernoulli.pmf |   bernoulli.cdf |       bernoulli.rv     |\n",
    "\n",
    "자세한 내용은 여기 링크 참조: https://docs.scipy.org/doc/scipy/reference/stats.html"
   ]
  },
  {
   "cell_type": "markdown",
   "metadata": {},
   "source": [
    "## discrete uniform rv"
   ]
  },
  {
   "cell_type": "code",
   "execution_count": 2,
   "metadata": {},
   "outputs": [],
   "source": [
    "from scipy.stats import randint\n",
    "from scipy.stats import binom\n",
    "import matplotlib.pyplot as plt\n",
    "import numpy as np"
   ]
  },
  {
   "cell_type": "markdown",
   "metadata": {},
   "source": [
    "## 1) PMF plot"
   ]
  },
  {
   "cell_type": "code",
   "execution_count": 3,
   "metadata": {},
   "outputs": [
    {
     "data": {
      "text/plain": [
       "Text(0.5, 1.0, 'uniform pmf')"
      ]
     },
     "execution_count": 3,
     "metadata": {},
     "output_type": "execute_result"
    },
    {
     "data": {
      "image/png": "[encoded data removed]",
      "text/plain": [
       "<Figure size 432x288 with 1 Axes>"
      ]
     },
     "metadata": {
      "needs_background": "light"
     },
     "output_type": "display_data"
    }
   ],
   "source": [
    "fig, ax = plt.subplots(1, 1)\n",
    "\n",
    "low, high = 1, 7\n",
    "x = np.arange(randint.ppf(0.01, low, high),\n",
    "              randint.ppf(1.0, low, high))\n",
    "ax.plot(x, randint.pmf(x, low, high), 'bo', ms=8)\n",
    "ax.vlines(x, 0, randint.pmf(x, low, high), colors='b', lw=5, alpha=0.5)\n",
    "plt.xlabel('x')\n",
    "plt.ylabel('P(x)')\n",
    "plt.title('uniform pmf')"
   ]
  },
  {
   "cell_type": "markdown",
   "metadata": {},
   "source": [
    "또는 "
   ]
  },
  {
   "cell_type": "code",
   "execution_count": 4,
   "metadata": {},
   "outputs": [
    {
     "data": {
      "text/plain": [
       "Text(0.5, 1.0, 'uniform pmf')"
      ]
     },
     "execution_count": 4,
     "metadata": {},
     "output_type": "execute_result"
    },
    {
     "data": {
      "image/png": "[encoded data removed]",
      "text/plain": [
       "<Figure size 432x288 with 1 Axes>"
      ]
     },
     "metadata": {
      "needs_background": "light"
     },
     "output_type": "display_data"
    }
   ],
   "source": [
    "fig, ax = plt.subplots(1, 1)\n",
    "\n",
    "low, high = 1, 7\n",
    "x = np.arange(low, high)\n",
    "ax.plot(x, randint.pmf(x, low, high), 'bo', ms=8)\n",
    "ax.vlines(x, 0, randint.pmf(x, low, high), colors='b', lw=5, alpha=0.5)\n",
    "plt.xlabel('x')\n",
    "plt.ylabel('P(x)')\n",
    "plt.title('uniform pmf')"
   ]
  },
  {
   "cell_type": "markdown",
   "metadata": {},
   "source": [
    "## 2) CDF plot"
   ]
  },
  {
   "cell_type": "code",
   "execution_count": 5,
   "metadata": {},
   "outputs": [
    {
     "data": {
      "text/plain": [
       "Text(0.5, 1.0, 'uniform pmf')"
      ]
     },
     "execution_count": 5,
     "metadata": {},
     "output_type": "execute_result"
    },
    {
     "data": {
      "image/png": "[encoded data removed]",
      "text/plain": [
       "<Figure size 432x288 with 1 Axes>"
      ]
     },
     "metadata": {
      "needs_background": "light"
     },
     "output_type": "display_data"
    }
   ],
   "source": [
    "fig, ax = plt.subplots(1, 1)\n",
    "\n",
    "low, high = 1, 7\n",
    "x = np.arange(low, high, 0.01)\n",
    "ax.plot(x, randint.cdf(x, low, high), 'b-', ms=8)\n",
    "plt.xlabel('x')\n",
    "plt.ylabel('P(x)')\n",
    "plt.ylim([0,1.01])\n",
    "plt.title('uniform pmf')"
   ]
  },
  {
   "cell_type": "markdown",
   "metadata": {},
   "source": [
    "## 3) 샘플 (sample) 발생"
   ]
  },
  {
   "cell_type": "code",
   "execution_count": 6,
   "metadata": {},
   "outputs": [
    {
     "data": {
      "image/png": "[encoded data removed]",
      "text/plain": [
       "<Figure size 432x288 with 1 Axes>"
      ]
     },
     "metadata": {
      "needs_background": "light"
     },
     "output_type": "display_data"
    }
   ],
   "source": [
    "r = randint.rvs(low, high, size=1000)\n",
    "plt.hist(r, bins = np.arange(low,high+1)) \n",
    "plt.title(\"histogram\") \n",
    "plt.show()"
   ]
  },
  {
   "cell_type": "markdown",
   "metadata": {},
   "source": [
    "## Homework #2\n",
    "## 위의 예를 참조하여 geometric 분포에 대하여 1) PMF plot, 2) CDF plot, 3) 샘플 발생 코드와 결과를 제출하시오."
   ]
  },
  {
   "cell_type": "markdown",
   "metadata": {},
   "source": [
    "## 1) PMF plot"
   ]
  },
  {
   "cell_type": "markdown",
   "metadata": {},
   "source": [
    "## 2) CDF plot"
   ]
  },
  {
   "cell_type": "markdown",
   "metadata": {},
   "source": [
    "## 3) 샘플 (sample) 발생"
   ]
  }
 ],
 "metadata": {
  "kernelspec": {
   "display_name": "Python 3 (ipykernel)",
   "language": "python",
   "name": "python3"
  },
  "language_info": {
   "codemirror_mode": {
    "name": "ipython",
    "version": 3
   },
   "file_extension": ".py",
   "mimetype": "text/x-python",
   "name": "python",
   "nbconvert_exporter": "python",
   "pygments_lexer": "ipython3",
   "version": "3.9.12"
  }
 },
 "nbformat": 4,
 "nbformat_minor": 4
}
